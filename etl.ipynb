{
 "cells": [
  {
   "attachments": {},
   "cell_type": "markdown",
   "metadata": {},
   "source": [
    "# ETL Process\n",
    "### Extract, Transform, Load"
   ]
  },
  {
   "cell_type": "code",
   "execution_count": 1,
   "metadata": {},
   "outputs": [],
   "source": [
    "# Importing relevant packages\n",
    "\n",
    "import requests\n",
    "import pandas as pd\n",
    "import numpy as np\n",
    "from IPython.display import clear_output\n",
    "\n",
    "pd.set_option('display.max_rows', 50)\n",
    "pd.set_option('display.max_columns', 50)"
   ]
  },
  {
   "attachments": {},
   "cell_type": "markdown",
   "metadata": {},
   "source": [
    "### Extract\n",
    "\n",
    "We gathered our data from the 2019 Annual Business Survey (ABS) through their [APIs](https://www.census.gov/data/developers/data-sets/abs.2019.html).\n",
    "\n",
    "In order to pull data from the API, you need to use an API key, which can be requested from the [API User Guide](https://www.census.gov/data/developers/guidance/api-user-guide.Help_&_Contact_Us.html).\n",
    "\n",
    "With our API key, we generate urls to the various datasets including all the parameters of interest in our get variables. We probably won't use all of this information but it's better to have it available and trim it down later."
   ]
  },
  {
   "cell_type": "code",
   "execution_count": 2,
   "metadata": {},
   "outputs": [],
   "source": [
    "API_KEY = '2e3a785a0323fb22d89acae1264b47cb449782aa'\n",
    "\n",
    "#Setting up Url for API calls\n",
    "get = 'GEO_ID,NAME,NAICS2017,NAICS2017_LABEL,SEX,SEX_LABEL,ETH_GROUP,ETH_GROUP_LABEL,RACE_GROUP,RACE_GROUP_LABEL,VET_GROUP,VET_GROUP_LABEL,EMPSZFI,EMPSZFI_LABEL,YEAR,FIRMPDEMP,FIRMPDEMP_F,RCPPDEMP,RCPPDEMP_F,EMP,EMP_F,PAYANN,PAYANN_F'\n",
    "summary_us_url = f'https://api.census.gov/data/2018/abscs?get={get}&for=us:*&key={API_KEY}'\n",
    "summary_state_url = f'https://api.census.gov/data/2018/abscs?get={get}&for=state:*&key={API_KEY}'\n",
    "\n",
    "get = 'GEO_ID,NAME,NAICS2017,NAICS2017_LABEL,SEX,SEX_LABEL,ETH_GROUP,ETH_GROUP_LABEL,RACE_GROUP,RACE_GROUP_LABEL,VET_GROUP,VET_GROUP_LABEL,QDESC,BUSCHAR,BUSCHAR_LABEL,YEAR,FIRMPDEMP,FIRMPDEMP_F,RCPPDEMP,RCPPDEMP_F,EMP,EMP_F,PAYANN,PAYANN_F'\n",
    "business_char_workers_us_url = f'https://api.census.gov/data/2018/abscb?get={get}&for=us:*&QDESC_LABEL=WORKERS&key={API_KEY}'\n",
    "business_char_workers_state_url = f'https://api.census.gov/data/2018/abscb?get={get}&for=state:*&QDESC_LABEL=WORKERS&key={API_KEY}'\n",
    "business_char_cust_us_url = f'https://api.census.gov/data/2018/abscb?get={get}&for=us:*&QDESC_LABEL=CUST&key={API_KEY}'\n",
    "business_char_cust_state_url = f'https://api.census.gov/data/2018/abscb?get={get}&for=state:*&QDESC_LABEL=CUST&key={API_KEY}'\n",
    "business_char_family_us_url = f'https://api.census.gov/data/2018/abscb?get={get}&for=us:*&QDESC_LABEL=FAMOWN&key={API_KEY}'\n",
    "business_char_family_state_url = f'https://api.census.gov/data/2018/abscb?get={get}&for=state:*&QDESC_LABEL=FAMOWN&key={API_KEY}'\n",
    "\n",
    "get = 'GEO_ID,NAME,NAICS2017,NAICS2017_LABEL,OWNER_SEX,OWNER_SEX_LABEL,OWNER_ETH,OWNER_ETH_LABEL,OWNER_RACE,OWNER_RACE_LABEL,OWNER_VET,OWNER_VET_LABEL,QDESC,OWNCHAR,OWNCHAR_LABEL,YEAR,OWNPDEMP,OWNPDEMP_F'\n",
    "owner_educ_us_url = f'https://api.census.gov/data/2018/abscbo?get={get}&for=us:*&QDESC_LABEL=EDUC&key={API_KEY}'\n",
    "owner_educ_state_url = f'https://api.census.gov/data/2018/abscbo?get={get}&for=state:*&QDESC_LABEL=EDUC&key={API_KEY}'\n",
    "owner_age_us_url = f'https://api.census.gov/data/2018/abscbo?get={get}&for=us:*&QDESC_LABEL=OWNRAGE&key={API_KEY}'\n",
    "owner_age_state_url = f'https://api.census.gov/data/2018/abscbo?get={get}&for=state:*&QDESC_LABEL=OWNRAGE&key={API_KEY}'\n",
    "\n",
    "get = 'GEO_ID,NAME,NAICS2017,NAICS2017_LABEL,NSFSZFI,NSFSZFI_LABEL,TECHUSE,TECHUSE_LABEL,FACTORS_U,FACTORS_U_LABEL,IMPACTWF_U,IMPACTWF_U_LABEL,MOTUSETECH,MOTUSETECH_LABEL,FIRMPDEMP,FIRMPDEMP_F,RCPPDEMP,RCPPDEMP_F,EMP,EMP_F,PAYANN,PAYANN_F'\n",
    "tech_us_url = f'https://api.census.gov/data/2018/abstcb?get={get}&for=us:*&key={API_KEY}'\n",
    "tech_state_url = f'https://api.census.gov/data/2018/abstcb?get={get}&for=state:*&key={API_KEY}'\n",
    "\n"
   ]
  },
  {
   "attachments": {},
   "cell_type": "markdown",
   "metadata": {},
   "source": [
    "Once we have all the urls, we can make the requests using<br>\n",
    "    \n",
    "    requests.get()\n",
    "We stored all the requests in variables so that we can don't have to continously make calls since we are limited to 500 calls per day. This also makes it to focus on specific datasets because we know exactly what datasets we are extracting and transforming as well as the information contained in those datasets."
   ]
  },
  {
   "cell_type": "code",
   "execution_count": 3,
   "metadata": {},
   "outputs": [],
   "source": [
    "# Making API calls\n",
    "\n",
    "# summary_us_request = requests.get(summary_us_url)\n",
    "# summary_state_request = requests.get(summary_state_url)\n",
    "# business_char_workers_us_request = requests.get(business_char_workers_us_url)\n",
    "# business_char_workers_state_request = requests.get(business_char_workers_state_url)\n",
    "# business_char_cust_us_request = requests.get(business_char_cust_us_url)\n",
    "# business_char_cust_state_request = requests.get(business_char_cust_state_url)\n",
    "# business_char_family_us_request = requests.get(business_char_family_us_url)\n",
    "# business_char_family_state_request = requests.get(business_char_family_state_url)\n",
    "owner_educ_us_request = requests.get(owner_educ_us_url)\n",
    "owner_educ_state_request = requests.get(owner_educ_state_url)\n",
    "owner_age_us_request = requests.get(owner_age_us_url)\n",
    "owner_age_state_request = requests.get(owner_age_state_url)\n",
    "tech_us_request = requests.get(tech_us_url)\n",
    "tech_state_request = requests.get(tech_state_url)\n"
   ]
  },
  {
   "attachments": {},
   "cell_type": "markdown",
   "metadata": {},
   "source": [
    "### Transform\n",
    "\n",
    "In this step, we build a function to do some preliminary cleaning across the datasets. It takes in the stored request from the API calls to clean the data.\n",
    "\n",
    "It accomplishes this task by:\n",
    "+ Removing the brackets and quotes\n",
    "+ Changing fields with extra commas\n",
    "+ Splitting each entry into it's own row\n",
    "+ Transforming the split string into a list\n",
    "+ Extracting the headers and values\n",
    "+ Creating the DataFrame\n",
    "\n",
    "Once the DataFrame is created, we then take a few more steps to prep our data for use:\n",
    "+ Changing the capitalized header names to lower case\n",
    "+ Changing the null strings into NaN, which is actually recognized as a null value in Pandas\n",
    "+ Renaming columns to more descriptive names\n",
    "+ Changing numercial columns from string type to numerical"
   ]
  },
  {
   "cell_type": "code",
   "execution_count": 23,
   "metadata": {},
   "outputs": [],
   "source": [
    "def to_dataframe(response):\n",
    "    '''Takes API response, converts it into text, cleans it and places it \n",
    "    into a pandas dataframe which is returned to the user for analysis'''\n",
    "\n",
    "    data = response.text\n",
    "    # Remove brackets from ends\n",
    "    data = data[2:-2]\n",
    "    # Remove quotes from values\n",
    "    data = data.replace('\"', '')\n",
    "    # Altering values containing commas so they don't misalign and break the DataFrame\n",
    "    data = data.replace('Agriculture, forestry, fishing and hunting', 'Agriculture/Forestry/Fishing/Hunting')\n",
    "    data = data.replace('Arts, entertainment, and recreation', 'Arts/Entertainment/Recreation')\n",
    "    data = data.replace('Mining, quarrying, and oil and gas extraction', 'Mining/Quarrying/Oil&Gas Extraction')\n",
    "    data = data.replace('Not applicable,', 'N/A')\n",
    "    data = data.replace('Professional, scientific, and technical services', 'Professional/Scientific/Technical Services')\n",
    "    data = data.replace('Some college, but no degree', 'Some college')\n",
    "    data = data.replace('Technical, trade, or vocational', 'Technical/Trade/Vocational')\n",
    "    data = data.replace('Tested,','Tested')\n",
    "\n",
    "    # Splitting into rows\n",
    "    data = data.split('],\\n[')\n",
    "    # Changing into a list to seperate headers and values\n",
    "    new_data = [i.split(',') for i in data]\n",
    "\n",
    "    # Creating DataFrame\n",
    "    values = new_data[1:]\n",
    "    headers = new_data[0]\n",
    "    df = pd.DataFrame(values, columns = headers)\n",
    "    # Convert names into lower case\n",
    "    df.columns = df.columns.str.lower()\n",
    "    df = df.replace('null', np.nan)\n",
    "        \n",
    "    # Change numeric columns from str to numeric  \n",
    "    numeric = ['emp','firmpdemp','payann','rcppdemp',]\n",
    "    for i in numeric:\n",
    "        df[i] = pd.to_numeric(df[i])\n",
    "\n",
    "    # Renaming columns to more descriptive names\n",
    "    df.rename(columns = {\n",
    "        'emp' : 'number_of_employees',\n",
    "        'emp_pct' : 'percent_of_employees',\n",
    "        'eth_group_label' : 'ethnicity',\n",
    "        'factors_u_label' : 'usage_adverse_factors',\n",
    "        'firmpdemp' : 'number_of_firms',\n",
    "        'firmpdemp_pct' : 'percent_of_firms',\n",
    "        'impactwf_u_label' : 'tech_usage_worker_impact',\n",
    "        'motusetech_label' : 'tech_usage_purpose',\n",
    "        'naics2017_label' : 'industry',\n",
    "        'nsfszfi_label' : 'firm_size_category',\n",
    "        'payann' : 'annual_payroll',\n",
    "        'payann_pct' : 'percent_annual_payroll',\n",
    "        'race_group_label' : 'race',\n",
    "        'rcppdemp' : 'revenue',\n",
    "        'rcppdemp_f' : 'revenue_ranges',\n",
    "        'rcppdemp_pct' : 'percent_revenue_of_firms',\n",
    "        'sex' : 'sex_code',\n",
    "        'sex_label' : 'sex',\n",
    "        'techuse_label' : 'tech_usage'\n",
    "    }, inplace = True)\n",
    "\n",
    "    return df"
   ]
  },
  {
   "attachments": {},
   "cell_type": "markdown",
   "metadata": {},
   "source": [
    "### Initial Data Analysis + Exporting to CSV\n",
    "\n",
    "Every group member was given the freedom to explore the topics/questions they were interested in. In the following sections, the members each make dataframes from the datasets created from the API calls they are interested in. We then do some initial data analysis, and then export the dataframes to CSV files, which we can use to make visualizations in a separate notebook."
   ]
  },
  {
   "cell_type": "code",
   "execution_count": 22,
   "metadata": {},
   "outputs": [],
   "source": [
    "def owner_dataframe(response):\n",
    "    '''Takes API response, converts it into text, cleans it and places it \n",
    "    into a pandas dataframe which is returned to the user for analysis'''\n",
    "\n",
    "    data = response.text\n",
    "    # Remove brackets from ends\n",
    "    data = data[2:-2]\n",
    "    # Remove quotes from values\n",
    "    data = data.replace('\"', '')\n",
    "    # Altering values containing commas so they don't misalign and break the DataFrame\n",
    "    data = data.replace('Agriculture, forestry, fishing and hunting', 'Agriculture/Forestry/Fishing/Hunting')\n",
    "    data = data.replace('Arts, entertainment, and recreation', 'Arts/Entertainment/Recreation')\n",
    "    data = data.replace('Mining, quarrying, and oil and gas extraction', 'Mining/Quarrying/Oil&Gas Extraction')\n",
    "    data = data.replace('Not applicable,', 'N/A')\n",
    "    data = data.replace('Professional, scientific, and technical services', 'Professional/Scientific/Technical Services')\n",
    "    # data = data.replace('Some college, but no degree', 'Some college')\n",
    "    # data = data.replace('Technical, trade, or vocational', 'Technical/Trade/Vocational')\n",
    "    # data = data.replace('Tested,','Tested')\n",
    "\n",
    "    # Splitting into rows\n",
    "    data = data.split('],\\n[')\n",
    "    # Changing into a list to seperate headers and values\n",
    "    new_data = [i.split(',') for i in data]\n",
    "\n",
    "    # Creating DataFrame\n",
    "    values = new_data[1:]\n",
    "    headers = new_data[0]\n",
    "    df = pd.DataFrame(values, columns = headers)\n",
    "    # Convert names into lower case\n",
    "    df.columns = df.columns.str.lower()\n",
    "    df = df.replace('null', np.nan)\n",
    "        \n",
    "    # Change numeric columns from str to numeric  \n",
    "    # numeric = ['emp','firmpdemp','payann','rcppdemp',]\n",
    "    # for i in numeric:\n",
    "    #     df[i] = pd.to_numeric(df[i])\n",
    "\n",
    "    # Renaming columns to more descriptive names\n",
    "    df.rename(columns = {\n",
    "        'emp' : 'number_of_employees',\n",
    "        'emp_pct' : 'percent_of_employees',\n",
    "        'eth_group_label' : 'ethnicity',\n",
    "        'factors_u_label' : 'usage_adverse_factors',\n",
    "        'firmpdemp' : 'number_of_firms',\n",
    "        'firmpdemp_pct' : 'percent_of_firms',\n",
    "        'impactwf_u_label' : 'tech_usage_worker_impact',\n",
    "        'motusetech_label' : 'tech_usage_purpose',\n",
    "        'naics2017_label' : 'industry',\n",
    "        'nsfszfi_label' : 'firm_size_category',\n",
    "        'payann' : 'annual_payroll',\n",
    "        'payann_pct' : 'percent_annual_payroll',\n",
    "        'race_group_label' : 'race',\n",
    "        'rcppdemp' : 'revenue',\n",
    "        'rcppdemp_f' : 'revenue_ranges',\n",
    "        'rcppdemp_pct' : 'percent_revenue_of_firms',\n",
    "        'sex' : 'sex_code',\n",
    "        'sex_label' : 'sex',\n",
    "        'techuse_label' : 'tech_usage'\n",
    "    }, inplace = True)\n",
    "\n",
    "    return df"
   ]
  },
  {
   "cell_type": "code",
   "execution_count": 24,
   "metadata": {},
   "outputs": [],
   "source": [
    "# Chris\n",
    "\n",
    "#tech usage by state\n",
    "usage_by_state = to_dataframe(tech_state_request)\n",
    "usage_by_state['state'] = usage_by_state['name']\n",
    "total_usage = [\n",
    "    'T1E03B99', 'T2E03B99', 'T3E03B99', 'T4E03B99', 'T5E03B99'\n",
    "]\n",
    "usage_by_state = usage_by_state[usage_by_state['techuse'].isin(total_usage)]\n",
    "\n",
    "usage_by_state = usage_by_state[[\n",
    "    'state','industry','techuse','tech_usage','number_of_firms']]\n",
    "\n",
    "ai = usage_by_state[usage_by_state['techuse'] == 'T1E03B99']\n",
    "cloud = usage_by_state[usage_by_state['techuse'] == 'T2E03B99']\n",
    "software = usage_by_state[usage_by_state['techuse'] == 'T3E03B99']\n",
    "robotics = usage_by_state[usage_by_state['techuse'] == 'T4E03B99']\n",
    "equipment = usage_by_state[usage_by_state['techuse'] == 'T5E03B99']\n",
    "\n",
    "usage = pd.DataFrame()\n",
    "usage['state'] = usage_by_state['state'].unique()\n",
    "\n",
    "ai = ai.groupby('state')['tech_usage','number_of_firms'].sum()\n",
    "ai = list(ai['number_of_firms'])\n",
    "cloud = cloud.groupby('state')['tech_usage','number_of_firms'].sum()\n",
    "cloud = list(cloud['number_of_firms'])\n",
    "software = software.groupby('state')['tech_usage','number_of_firms'].sum()\n",
    "software = list(software['number_of_firms'])\n",
    "robotics = robotics.groupby('state')['tech_usage','number_of_firms'].sum()\n",
    "robotics = list(robotics['number_of_firms'])\n",
    "equipment = equipment.groupby('state')['tech_usage','number_of_firms'].sum()\n",
    "equipment = list(equipment['number_of_firms'])\n",
    "usage['ai'] = ai\n",
    "usage['cloud'] = cloud\n",
    "usage['software'] = software\n",
    "usage['robotics'] = robotics\n",
    "usage['equipment'] = equipment\n",
    "usage.set_index('state',inplace=True)\n",
    "clear_output(wait=False)\n",
    "\n",
    "usage.to_csv('CSV/usage_by_state.csv')"
   ]
  },
  {
   "cell_type": "code",
   "execution_count": 25,
   "metadata": {},
   "outputs": [],
   "source": [
    "worker_impact = to_dataframe(tech_us_request)\n",
    "\n",
    "# impact of usage by industry\n",
    "\n",
    "# flagged rows don't provide any useful information\n",
    "worker_impact = worker_impact[worker_impact['firmpdemp_f'].isna()]\n",
    "# filter for all firm sizes\n",
    "worker_impact = worker_impact[worker_impact['nsfszfi'] == '001']\n",
    "# filter to remove total of tech_usage_worker_impact\n",
    "worker_impact = worker_impact[worker_impact['impactwf_u'] != '00']\n",
    "\n",
    "# selecting rows for table\n",
    "worker_impact = worker_impact[\n",
    "    ['industry','naics2017','techuse','tech_usage','impactwf_u','tech_usage_worker_impact',\n",
    "    'number_of_firms', 'number_of_employees', 'annual_payroll'\n",
    "]]\n",
    "\n",
    "# export to CSV\n",
    "worker_impact.to_csv('CSV/worker_impact.csv')"
   ]
  },
  {
   "cell_type": "code",
   "execution_count": 27,
   "metadata": {},
   "outputs": [],
   "source": [
    "owners_age = owner_dataframe(owner_age_state_request)"
   ]
  },
  {
   "cell_type": "code",
   "execution_count": null,
   "metadata": {},
   "outputs": [],
   "source": [
    "# Sara"
   ]
  },
  {
   "cell_type": "code",
   "execution_count": null,
   "metadata": {},
   "outputs": [],
   "source": [
    "# Jasleen\n",
    "\n",
    "summary_us = to_dataframe(summary_us_request)\n",
    "\n",
    "revenue_disclosed = summary_us[(summary_us['revenue'] != '0') & (summary_us['race'] != 'Total') & (summary_us['race'] != \"Minority\") & (summary_us['race'] != \"Equally minority/nonminority\") & (summary_us['race'] != 'Nonminority') & (summary_us['race'] != 'Classifiable') & (summary_us['race'] != 'Unclassifiable')]\n",
    "revenue1 = revenue_disclosed[['revenue', 'race', 'industry']]\n",
    "\n",
    "revenue1.to_csv('CSV/revenues_disclosed.csv')"
   ]
  },
  {
   "cell_type": "code",
   "execution_count": null,
   "metadata": {},
   "outputs": [],
   "source": [
    "summary_state = to_dataframe(summary_state_request)\n",
    "\n",
    "\n",
    "revenue_state = summary_state[(summary_state['race'] != 'Total') & (summary_state['race'] != \"Minority\") & (summary_state['race'] != \"Equally minority/nonminority\") & (summary_state['race'] != 'Nonminority') & (summary_state['race'] != 'Classifiable') & (summary_state['race'] != 'Unclassifiable') & (summary_state['revenue_ranges'] != \"S\") & (summary_state['revenue_ranges'] != \"D\")]\n",
    "\n",
    "revenue_state.to_csv('CSV/revenue_states.csv')"
   ]
  },
  {
   "cell_type": "code",
   "execution_count": null,
   "metadata": {},
   "outputs": [],
   "source": [
    "check = summary_us[['revenue', 'industry']]\n",
    "check.tail()"
   ]
  },
  {
   "cell_type": "code",
   "execution_count": null,
   "metadata": {},
   "outputs": [],
   "source": [
    "revenue_hidden = summary_us[(summary_us['revenue'] == '0') & (summary_us['revenue_ranges'] != \"S\") & (summary_us['revenue_ranges'] != \"D\") & (summary_us['industry'] != \"Total for all sectors\") & (summary_us['race'] != 'Total') & (summary_us['race'] != \"Minority\") & (summary_us['race'] != \"Equally minority/nonminority\") & (summary_us['race'] != 'Nonminority') & (summary_us['race'] != 'Classifiable') & (summary_us['race'] != 'Unclassifiable')]\n",
    "\n",
    "revenue2 = revenue_hidden[['industry', 'race', 'revenue_ranges']]\n",
    "revenue2.to_csv('CSV/revenue_industry.csv')\n",
    "\n",
    "revenue2.to_csv('CSV/revenues_hidden.csv')"
   ]
  },
  {
   "cell_type": "code",
   "execution_count": 18,
   "metadata": {},
   "outputs": [
    {
     "data": {
      "text/plain": [
       "'<Response [200]>'"
      ]
     },
     "execution_count": 18,
     "metadata": {},
     "output_type": "execute_result"
    }
   ],
   "source": [
    "# Armin"
   ]
  }
 ],
 "metadata": {
  "kernelspec": {
   "display_name": "base",
   "language": "python",
   "name": "python3"
  },
  "language_info": {
   "codemirror_mode": {
    "name": "ipython",
    "version": 3
   },
   "file_extension": ".py",
   "mimetype": "text/x-python",
   "name": "python",
   "nbconvert_exporter": "python",
   "pygments_lexer": "ipython3",
   "version": "3.8.8"
  },
  "orig_nbformat": 4,
  "vscode": {
   "interpreter": {
    "hash": "fb833273add3e7c60eb33c0608260b79a61e072ade6f02cc8d07b0a26eef8ab8"
   }
  }
 },
 "nbformat": 4,
 "nbformat_minor": 2
}
