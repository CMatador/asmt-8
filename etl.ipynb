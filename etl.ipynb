{
 "cells": [
  {
   "attachments": {},
   "cell_type": "markdown",
   "metadata": {},
   "source": [
    "# ETL Process\n",
    "### Extract, Transform, Load"
   ]
  },
  {
   "cell_type": "code",
   "execution_count": 100,
   "metadata": {},
   "outputs": [],
   "source": [
    "# Importing relevant packages\n",
    "\n",
    "import requests\n",
    "import pandas as pd\n",
    "import numpy as np\n",
    "from IPython.display import clear_output"
   ]
  },
  {
   "cell_type": "code",
   "execution_count": 101,
   "metadata": {},
   "outputs": [],
   "source": [
    "pd.set_option('display.max_rows', 50)\n",
    "pd.set_option('display.max_columns', 50)"
   ]
  },
  {
   "attachments": {},
   "cell_type": "markdown",
   "metadata": {},
   "source": [
    "### Extract\n",
    "\n",
    "We gathered our data from the 2019 Annual Business Survey (ABS) through their [APIs](https://www.census.gov/data/developers/data-sets/abs.2019.html).\n",
    "\n",
    "In order to pull data from the API, you need to use an API key, which can be requested from the [API User Guide](https://www.census.gov/data/developers/guidance/api-user-guide.Help_&_Contact_Us.html).\n",
    "\n",
    "With our API key, we generate urls to the various datasets including all the parameters of interest in our get variables. We probably won't use all of this information but it's better to have it available and trim it down later."
   ]
  },
  {
   "cell_type": "code",
   "execution_count": 102,
   "metadata": {},
   "outputs": [],
   "source": [
    "API_KEY = '2e3a785a0323fb22d89acae1264b47cb449782aa'\n",
    "\n",
    "#Setting up Url for API calls\n",
    "get = 'GEO_ID,NAME,NAICS2017,NAICS2017_LABEL,SEX,SEX_LABEL,ETH_GROUP,ETH_GROUP_LABEL,RACE_GROUP,RACE_GROUP_LABEL,VET_GROUP,VET_GROUP_LABEL,EMPSZFI,EMPSZFI_LABEL,YEAR,FIRMPDEMP,FIRMPDEMP_F,RCPPDEMP,RCPPDEMP_F,EMP,EMP_F,PAYANN,PAYANN_F'\n",
    "summary_us_url = f'https://api.census.gov/data/2018/abscs?get={get}&for=us:*&key={API_KEY}'\n",
    "summary_state_url = f'https://api.census.gov/data/2018/abscs?get={get}&for=state:*&key={API_KEY}'\n",
    "\n",
    "get = 'GEO_ID,NAME,NAICS2017,NAICS2017_LABEL,SEX,SEX_LABEL,ETH_GROUP,ETH_GROUP_LABEL,RACE_GROUP,RACE_GROUP_LABEL,VET_GROUP,VET_GROUP_LABEL,QDESC,BUSCHAR,BUSCHAR_LABEL,YEAR,FIRMPDEMP,FIRMPDEMP_F,RCPPDEMP,RCPPDEMP_F,EMP,EMP_F,PAYANN,PAYANN_F'\n",
    "business_char_workers_us_url = f'https://api.census.gov/data/2018/abscb?get={get}&for=us:*&QDESC_LABEL=WORKERS&key={API_KEY}'\n",
    "business_char_workers_state_url = f'https://api.census.gov/data/2018/abscb?get={get}&for=state:*&QDESC_LABEL=WORKERS&key={API_KEY}'\n",
    "business_char_cust_us_url = f'https://api.census.gov/data/2018/abscb?get={get}&for=us:*&QDESC_LABEL=CUST&key={API_KEY}'\n",
    "business_char_cust_state_url = f'https://api.census.gov/data/2018/abscb?get={get}&for=state:*&QDESC_LABEL=CUST&key={API_KEY}'\n",
    "business_char_family_us_url = f'https://api.census.gov/data/2018/abscb?get={get}&for=us:*&QDESC_LABEL=FAMOWN&key={API_KEY}'\n",
    "business_char_family_state_url = f'https://api.census.gov/data/2018/abscb?get={get}&for=state:*&QDESC_LABEL=FAMOWN&key={API_KEY}'\n",
    "\n",
    "get = 'GEO_ID,NAME,NAICS2017,NAICS2017_LABEL,OWNER_SEX,OWNER_SEX_LABEL,OWNER_ETH,OWNER_ETH_LABEL,OWNER_RACE,OWNER_RACE_LABEL,QDESC,OWNCHAR,OWNCHAR_LABEL,YEAR,OWNPDEMP,OWNPDEMP_F'\n",
    "owner_educ_us_url = f'https://api.census.gov/data/2018/abscbo?get={get}&for=us:*&QDESC_LABEL=EDUC&key={API_KEY}'\n",
    "owner_educ_state_url = f'https://api.census.gov/data/2018/abscbo?get={get}&for=state:*&QDESC_LABEL=EDUC&key={API_KEY}'\n",
    "owner_age_us_url = f'https://api.census.gov/data/2018/abscbo?get={get}&for=us:*&QDESC_LABEL=OWNRAGE&key={API_KEY}'\n",
    "owner_age_state_url = f'https://api.census.gov/data/2018/abscbo?get={get}&for=state:*&QDESC_LABEL=OWNRAGE&key={API_KEY}'\n",
    "\n",
    "get = 'GEO_ID,NAME,NAICS2017,NAICS2017_LABEL,NSFSZFI,NSFSZFI_LABEL,TECHUSE,TECHUSE_LABEL,FACTORS_U,FACTORS_U_LABEL,IMPACTWF_U,IMPACTWF_U_LABEL,MOTUSETECH,MOTUSETECH_LABEL,FIRMPDEMP,FIRMPDEMP_F,RCPPDEMP,RCPPDEMP_F,EMP,EMP_F,PAYANN,PAYANN_F'\n",
    "tech_us_url = f'https://api.census.gov/data/2018/abstcb?get={get}&for=us:*&key={API_KEY}'\n",
    "tech_state_url = f'https://api.census.gov/data/2018/abstcb?get={get}&for=state:*&key={API_KEY}'"
   ]
  },
  {
   "attachments": {},
   "cell_type": "markdown",
   "metadata": {},
   "source": [
    "Once we have all the urls, we can make the requests using<br>\n",
    "    \n",
    "    requests.get()\n",
    "We stored all the requests in variables so that we can don't have to continously make calls since we are limited to 500 calls per day. This also makes it to focus on specific datasets because we know exactly what datasets we are extracting and transforming as well as the information contained in those datasets."
   ]
  },
  {
   "cell_type": "code",
   "execution_count": 103,
   "metadata": {},
   "outputs": [],
   "source": [
    "# Making API calls\n",
    "\n",
    "summary_us_request = requests.get(summary_us_url)\n",
    "summary_state_request = requests.get(summary_state_url)\n",
    "# business_char_workers_us_request = requests.get(business_char_workers_us_url)\n",
    "# business_char_workers_state_request = requests.get(business_char_workers_state_url)\n",
    "# business_char_cust_us_request = requests.get(business_char_cust_us_url)\n",
    "# business_char_cust_state_request = requests.get(business_char_cust_state_url)\n",
    "# business_char_family_us_request = requests.get(business_char_family_us_url)\n",
    "# business_char_family_state_request = requests.get(business_char_family_state_url)\n",
    "# owner_educ_us_request = requests.get(owner_educ_us_url)\n",
    "# owner_educ_state_request = requests.get(owner_educ_state_url)\n",
    "# owner_age_us_request = requests.get(owner_age_us_url)\n",
    "# owner_age_state_request = requests.get(owner_age_state_url)\n",
    "# tech_us_request = requests.get(tech_us_url)\n",
    "# tech_state_request = requests.get(tech_state_url)\n"
   ]
  },
  {
   "attachments": {},
   "cell_type": "markdown",
   "metadata": {},
   "source": [
    "### Transform\n",
    "\n",
    "In this step, we build a function to do some preliminary cleaning across the datasets. It takes in the stored request from the API calls to clean the data.\n",
    "\n",
    "It accomplishes this task by:\n",
    "+ Removing the brackets and quotes\n",
    "+ Changing fields with extra commas\n",
    "+ Splitting each entry into it's own row\n",
    "+ Transforming the split string into a list\n",
    "+ Extracting the headers and values\n",
    "+ Creating the DataFrame\n",
    "\n",
    "Once the DataFrame is created, we then take a few more steps to prep our data for use:\n",
    "+ Changing the capitalized header names to lower case\n",
    "+ Changing the null strings into NaN, which is actually recognized as a null value in Pandas\n",
    "+ Renaming columns to more descriptive names\n",
    "+ Changing numercial columns from string type to numerical"
   ]
  },
  {
   "cell_type": "code",
   "execution_count": 118,
   "metadata": {},
   "outputs": [],
   "source": [
    "def to_dataframe(response):\n",
    "    '''Takes API response, converts it into text, cleans it and places it \n",
    "    into a pandas dataframe which is returned to the user for analysis'''\n",
    "\n",
    "    data = response.text\n",
    "    # Remove brackets from ends\n",
    "    data = data[2:-2]\n",
    "    # Remove quotes from values\n",
    "    data = data.replace('\"', '')\n",
    "    # Altering values containing commas so they don't misalign and break the DataFrame\n",
    "    data = data.replace('Agriculture, forestry, fishing and hunting', 'Agriculture/Forestry/Fishing/Hunting')\n",
    "    data = data.replace('Arts, entertainment, and recreation', 'Arts/Entertainment/Recreation')\n",
    "    data = data.replace('Mining, quarrying, and oil and gas extraction', 'Mining/Quarrying/Oil&Gas Extraction')\n",
    "    data = data.replace('Not applicable,', 'N/A')\n",
    "    data = data.replace('Professional, scientific, and technical services', 'Professional/Scientific/Technical Services')\n",
    "    data = data.replace('Some college, but no degree', 'Some college')\n",
    "    data = data.replace('Technical, trade, or vocational', 'Technical/Trade/Vocational')\n",
    "    data = data.replace('Tested,','Tested')\n",
    "\n",
    "    # Splitting into rows\n",
    "    data = data.split('],\\n[')\n",
    "    # Changing into a list to seperate headers and values\n",
    "    new_data = [i.split(',') for i in data]\n",
    "\n",
    "    # Creating DataFrame\n",
    "    values = new_data[1:]\n",
    "    headers = new_data[0]\n",
    "    df = pd.DataFrame(values, columns = headers)\n",
    "    # Convert names into lower case\n",
    "    df.columns = df.columns.str.lower()\n",
    "    df = df.replace('null', np.nan)\n",
    "        \n",
    "    # Change numeric columns from str to numeric  \n",
    "    numeric = ['emp','firmpdemp','payann','rcppdemp',]\n",
    "    for i in numeric:\n",
    "        df[i] = pd.to_numeric(df[i])\n",
    "\n",
    "    # Renaming columns to more descriptive names\n",
    "    df.rename(columns = {\n",
    "        'emp' : 'number_of_employees',\n",
    "        'emp_pct' : 'percent_of_employees',\n",
    "        'eth_group_label' : 'ethnicity',\n",
    "        'factors_u_label' : 'usage_adverse_factors',\n",
    "        'firmpdemp' : 'number_of_firms',\n",
    "        'firmpdemp_pct' : 'percent_of_firms',\n",
    "        'impactwf_u_label' : 'tech_usage_worker_impact',\n",
    "        'motusetech_label' : 'tech_usage_purpose',\n",
    "        'naics2017_label' : 'industry',\n",
    "        'nsfszfi_label' : 'firm_size_category',\n",
    "        'payann' : 'annual_payroll',\n",
    "        'payann_pct' : 'percent_annual_payroll',\n",
    "        'race_group_label' : 'race',\n",
    "        'rcppdemp' : 'revenue',\n",
    "        'rcppdemp_f' : 'revenue_ranges',\n",
    "        'rcppdemp_pct' : 'percent_revenue_of_firms',\n",
    "        'sex' : 'sex_code',\n",
    "        'sex_label' : 'sex',\n",
    "        'techuse_label' : 'tech_usage'\n",
    "    }, inplace = True)\n",
    "\n",
    "    return df"
   ]
  },
  {
   "attachments": {},
   "cell_type": "markdown",
   "metadata": {},
   "source": [
    "We also create a similar function for use on the owner requests, which have different numeric data. This would cause the prior function to be incompatible and fail."
   ]
  },
  {
   "cell_type": "code",
   "execution_count": 30,
   "metadata": {},
   "outputs": [],
   "source": [
    "def owner_dataframe(response):\n",
    "    '''Takes API response, converts it into text, cleans it and places it \n",
    "    into a pandas dataframe which is returned to the user for analysis'''\n",
    "\n",
    "    data = response.text\n",
    "    # Remove brackets from ends\n",
    "    data = data[2:-2]\n",
    "    # Remove quotes from values\n",
    "    data = data.replace('\"', '')\n",
    "    # Altering values containing commas so they don't misalign and break the DataFrame\n",
    "    data = data.replace('Agriculture, forestry, fishing and hunting', 'Agriculture/Forestry/Fishing/Hunting')\n",
    "    data = data.replace('Arts, entertainment, and recreation', 'Arts/Entertainment/Recreation')\n",
    "    data = data.replace('Mining, quarrying, and oil and gas extraction', 'Mining/Quarrying/Oil&Gas Extraction')\n",
    "    data = data.replace('Not applicable,', 'N/A')\n",
    "    data = data.replace('Professional, scientific, and technical services', 'Professional/Scientific/Technical Services')\n",
    "    # data = data.replace('Some college, but no degree', 'Some college')\n",
    "    # data = data.replace('Technical, trade, or vocational', 'Technical/Trade/Vocational')\n",
    "    # data = data.replace('Tested,','Tested')\n",
    "\n",
    "    # Splitting into rows\n",
    "    data = data.split('],\\n[')\n",
    "    # Changing into a list to seperate headers and values\n",
    "    new_data = [i.split(',') for i in data]\n",
    "\n",
    "    # Creating DataFrame\n",
    "    values = new_data[1:]\n",
    "    headers = new_data[0]\n",
    "    df = pd.DataFrame(values, columns = headers)\n",
    "    # Convert names into lower case\n",
    "    df.columns = df.columns.str.lower()\n",
    "    df = df.replace('null', np.nan)\n",
    "        \n",
    "    # Change numeric columns from str to numeric  \n",
    "    df['ownpdemp'] = pd.to_numeric(df['ownpdemp'])\n",
    "\n",
    "    # Renaming columns to more descriptive names\n",
    "    df.rename(columns = {\n",
    "        'emp' : 'number_of_employees',\n",
    "        'emp_pct' : 'percent_of_employees',\n",
    "        'eth_group_label' : 'ethnicity',\n",
    "        'firmpdemp' : 'number_of_firms',\n",
    "        'firmpdemp_pct' : 'percent_of_firms',\n",
    "        'naics2017_label' : 'industry',\n",
    "        'nsfszfi_label' : 'firm_size_category',\n",
    "        'ownchar' : 'age_label',\n",
    "        'ownchar_label' : 'age_group',\n",
    "        'owner_eth' : 'owner_ethnicity',\n",
    "        'owner_race' : 'race_code',\n",
    "        'owner_eth_label' : 'owner_race',\n",
    "        'owner_race_label' : 'race',\n",
    "        'owner_sex' : 'sex_code',\n",
    "        'owner_sex_label' : 'sex',\n",
    "        'ownpdemp' : 'number_of_owners_of_respondent_firms',\n",
    "        'payann' : 'annual_payroll',\n",
    "        'payann_pct' : 'percent_annual_payroll',\n",
    "        'rcppdemp' : 'revenue',\n",
    "        'rcppdemp_f' : 'revenue_ranges',\n",
    "        'rcppdemp_pct' : 'percent_revenue_of_firms',\n",
    "    }, inplace = True)\n",
    "\n",
    "    return df"
   ]
  },
  {
   "attachments": {},
   "cell_type": "markdown",
   "metadata": {},
   "source": [
    "### Initial Data Analysis + Exporting to CSV\n",
    "\n",
    "Every group member was given the freedom to explore the topics/questions they were interested in. In the following sections, the members each make dataframes from the datasets created from the API calls they are interested in. We then do some initial data analysis, and then export the dataframes to CSV files, which we can use to make visualizations in a separate notebook."
   ]
  },
  {
   "attachments": {},
   "cell_type": "markdown",
   "metadata": {},
   "source": [
    "#### Revenue"
   ]
  },
  {
   "cell_type": "code",
   "execution_count": 124,
   "metadata": {},
   "outputs": [],
   "source": [
    "# create dataframe for the dataset I want to use\n",
    "summary_us = to_dataframe(summary_us_request)\n",
    "# filter out companies that haven't listed revenues and filter for specific race groups instead of aggregated race groups\n",
    "revenue_disclosed = summary_us[(summary_us['revenue'] != 0) & (summary_us['race'] != 'Total') & (summary_us['race'] != \"Minority\") & (summary_us['race'] != \"Equally minority/nonminority\") & (summary_us['race'] != 'Nonminority') & (summary_us['race'] != 'Classifiable') & (summary_us['race'] != 'Unclassifiable')]\n",
    "revenue1 = revenue_disclosed[['revenue', 'race', 'industry']]\n",
    "# export dataframe to CSV\n",
    "revenue1.to_csv('CSV/revenues_disclosed.csv')"
   ]
  },
  {
   "cell_type": "code",
   "execution_count": 120,
   "metadata": {},
   "outputs": [],
   "source": [
    "# filter out white race group from dataframe because it is an outlier\n",
    "remove_white = revenue_disclosed[(revenue_disclosed['race'] != 'White')]\n",
    "#export dataframe to CSV\n",
    "remove_white.to_csv('CSV/remove_white.csv')"
   ]
  },
  {
   "cell_type": "code",
   "execution_count": 121,
   "metadata": {},
   "outputs": [],
   "source": [
    "# create dataframe that contains state info\n",
    "summary_state = to_dataframe(summary_state_request)\n",
    "#filter out aggregated race groups, filter out data not considered good enough (S, D)\n",
    "revenue_state = summary_state[(summary_state['race'] != 'Total') & (summary_state['race'] != \"Minority\") & (summary_state['race'] != \"Equally minority/nonminority\") & (summary_state['race'] != 'Nonminority') & (summary_state['race'] != 'Classifiable') & (summary_state['race'] != 'Unclassifiable') & (summary_state['revenue_ranges'] != \"S\") & (summary_state['revenue_ranges'] != \"D\")]\n",
    "# export dataframe to CSV\n",
    "revenue_state.to_csv('CSV/revenue_states.csv')"
   ]
  },
  {
   "cell_type": "code",
   "execution_count": 122,
   "metadata": {},
   "outputs": [
    {
     "data": {
      "text/html": [
       "<div>\n",
       "<style scoped>\n",
       "    .dataframe tbody tr th:only-of-type {\n",
       "        vertical-align: middle;\n",
       "    }\n",
       "\n",
       "    .dataframe tbody tr th {\n",
       "        vertical-align: top;\n",
       "    }\n",
       "\n",
       "    .dataframe thead th {\n",
       "        text-align: right;\n",
       "    }\n",
       "</style>\n",
       "<table border=\"1\" class=\"dataframe\">\n",
       "  <thead>\n",
       "    <tr style=\"text-align: right;\">\n",
       "      <th></th>\n",
       "      <th>revenue</th>\n",
       "      <th>industry</th>\n",
       "    </tr>\n",
       "  </thead>\n",
       "  <tbody>\n",
       "    <tr>\n",
       "      <th>19453</th>\n",
       "      <td>0</td>\n",
       "      <td>Mining/Quarrying/Oil&amp;Gas Extraction</td>\n",
       "    </tr>\n",
       "    <tr>\n",
       "      <th>19454</th>\n",
       "      <td>0</td>\n",
       "      <td>Mining/Quarrying/Oil&amp;Gas Extraction</td>\n",
       "    </tr>\n",
       "    <tr>\n",
       "      <th>19455</th>\n",
       "      <td>0</td>\n",
       "      <td>Mining/Quarrying/Oil&amp;Gas Extraction</td>\n",
       "    </tr>\n",
       "    <tr>\n",
       "      <th>19456</th>\n",
       "      <td>0</td>\n",
       "      <td>Mining/Quarrying/Oil&amp;Gas Extraction</td>\n",
       "    </tr>\n",
       "    <tr>\n",
       "      <th>19457</th>\n",
       "      <td>0</td>\n",
       "      <td>Mining/Quarrying/Oil&amp;Gas Extraction</td>\n",
       "    </tr>\n",
       "  </tbody>\n",
       "</table>\n",
       "</div>"
      ],
      "text/plain": [
       "       revenue                             industry\n",
       "19453        0  Mining/Quarrying/Oil&Gas Extraction\n",
       "19454        0  Mining/Quarrying/Oil&Gas Extraction\n",
       "19455        0  Mining/Quarrying/Oil&Gas Extraction\n",
       "19456        0  Mining/Quarrying/Oil&Gas Extraction\n",
       "19457        0  Mining/Quarrying/Oil&Gas Extraction"
      ]
     },
     "execution_count": 122,
     "metadata": {},
     "output_type": "execute_result"
    }
   ],
   "source": [
    "#did a check for revenues per industry, here is where I found out state and industry info is only available for companies that did not disclose exact revenues\n",
    "check = summary_us[['revenue', 'industry']]\n",
    "check.tail()"
   ]
  },
  {
   "cell_type": "code",
   "execution_count": 123,
   "metadata": {},
   "outputs": [],
   "source": [
    "# filter out companies that did dislose their revenues, filter out data not considered good (S, D), filter out rows for total industry, filter out aggregated race groups\n",
    "revenue_hidden = summary_us[(summary_us['revenue'] == 0) & (summary_us['revenue_ranges'] != \"S\") & (summary_us['revenue_ranges'] != \"D\") & (summary_us['industry'] != \"Total for all sectors\") & (summary_us['race'] != 'Total') & (summary_us['race'] != \"Minority\") & (summary_us['race'] != \"Equally minority/nonminority\") & (summary_us['race'] != 'Nonminority') & (summary_us['race'] != 'Classifiable') & (summary_us['race'] != 'Unclassifiable')]\n",
    "# filter out unnecessary columns\n",
    "revenue2 = revenue_hidden[['industry', 'race', 'revenue_ranges']]\n",
    "# export dataframe to CSV\n",
    "revenue2.to_csv('CSV/revenues_hidden.csv')\n",
    "revenue2.to_csv('CSV/revenue_industry.csv')"
   ]
  },
  {
   "attachments": {},
   "cell_type": "markdown",
   "metadata": {},
   "source": [
    "#### Technology"
   ]
  },
  {
   "cell_type": "code",
   "execution_count": 99,
   "metadata": {},
   "outputs": [],
   "source": [
    "# tech usage by state\n",
    "usage_by_state = to_dataframe(tech_state_request)\n",
    "\n",
    "# place state names into state column\n",
    "usage_by_state['state'] = usage_by_state['name']\n",
    "# filter for total tech use\n",
    "total_usage = [\n",
    "    'T1E03B99', 'T2E03B99', 'T3E03B99', 'T4E03B99', 'T5E03B99'\n",
    "]\n",
    "usage_by_state = usage_by_state[usage_by_state['techuse'].isin(total_usage)]\n",
    "# filter out unneeded columns\n",
    "usage_by_state = usage_by_state[[\n",
    "    'state','industry','techuse','tech_usage','number_of_firms']]\n",
    "\n",
    "# partitioning data by technology\n",
    "ai = usage_by_state[usage_by_state['techuse'] == 'T1E03B99']\n",
    "cloud = usage_by_state[usage_by_state['techuse'] == 'T2E03B99']\n",
    "software = usage_by_state[usage_by_state['techuse'] == 'T3E03B99']\n",
    "robotics = usage_by_state[usage_by_state['techuse'] == 'T4E03B99']\n",
    "equipment = usage_by_state[usage_by_state['techuse'] == 'T5E03B99']\n",
    "\n",
    "# extracting values for each technology/state\n",
    "ai = pd.DataFrame(ai.groupby('state')['number_of_firms'].sum())\n",
    "ai = ai['number_of_firms'].values\n",
    "cloud = pd.DataFrame(cloud.groupby('state')['number_of_firms'].sum())\n",
    "cloud = cloud['number_of_firms'].values\n",
    "software = pd.DataFrame(software.groupby('state')['number_of_firms'].sum())\n",
    "software = software['number_of_firms'].values\n",
    "robotics = pd.DataFrame(robotics.groupby('state')['number_of_firms'].sum())\n",
    "robotics = robotics['number_of_firms'].values\n",
    "equipment = pd.DataFrame(equipment.groupby('state')['number_of_firms'].sum())\n",
    "equipment = equipment['number_of_firms'].values\n",
    "\n",
    "# creating dataframe with extracted values\n",
    "usage = pd.DataFrame()\n",
    "usage['state'] = usage_by_state['state'].unique()\n",
    "usage['ai'] = ai\n",
    "usage['cloud'] = cloud\n",
    "usage['software'] = software\n",
    "usage['robotics'] = robotics\n",
    "usage['equipment'] = equipment\n",
    "usage.set_index('state',inplace=True)\n",
    "\n",
    "# export to csv\n",
    "usage.to_csv('CSV/usage_by_state.csv')"
   ]
  },
  {
   "cell_type": "code",
   "execution_count": 98,
   "metadata": {},
   "outputs": [],
   "source": [
    "# tech usage by industry\n",
    "usage_us = to_dataframe(tech_us_request)\n",
    "\n",
    "# filter for total tech use\n",
    "total_usage = [\n",
    "    'T1E03B99', 'T2E03B99', 'T3E03B99', 'T4E03B99', 'T5E03B99'\n",
    "]\n",
    "usage_us = usage_us[usage_us['techuse'].isin(total_usage)]\n",
    "\n",
    "# filter out 'all industries' rows\n",
    "usage_us = usage_us[usage_us['naics2017'] != '00']\n",
    "\n",
    "# partitioning by each technology type\n",
    "industry_ai = usage_us[usage_us['techuse'] == 'T1E03B99']\n",
    "industry_cloud = usage_us[usage_us['techuse'] == 'T2E03B99']\n",
    "industry_software = usage_us[usage_us['techuse'] == 'T3E03B99']\n",
    "industry_robotics = usage_us[usage_us['techuse'] == 'T4E03B99']\n",
    "industry_equipment = usage_us[usage_us['techuse'] == 'T5E03B99']\n",
    "\n",
    "# extracting number of firms for each industry/technology\n",
    "industry_ai = pd.DataFrame(industry_ai.groupby('industry')['number_of_firms'].sum())\n",
    "industry_ai = industry_ai['number_of_firms'].values\n",
    "industry_cloud = pd.DataFrame(industry_cloud.groupby('industry')['number_of_firms'].sum())\n",
    "industry_cloud = industry_cloud['number_of_firms'].values\n",
    "industry_software = pd.DataFrame(industry_software.groupby('industry')['number_of_firms'].sum())\n",
    "industry_software = industry_software['number_of_firms'].values\n",
    "industry_robotics = pd.DataFrame(industry_robotics.groupby('industry')['number_of_firms'].sum())\n",
    "industry_robotics = industry_robotics['number_of_firms'].values\n",
    "industry_equipment = pd.DataFrame(industry_equipment.groupby('industry')['number_of_firms'].sum())\n",
    "industry_equipment = industry_equipment['number_of_firms'].values\n",
    "\n",
    "# creating dataframe with extracted values\n",
    "usage_industry = pd.DataFrame()\n",
    "usage_industry['industry'] = usage_us['industry'].unique()\n",
    "usage_industry['ai'] = industry_ai\n",
    "usage_industry['cloud'] = industry_cloud\n",
    "usage_industry['software'] = industry_software\n",
    "usage_industry['robotics'] = industry_robotics\n",
    "usage_industry['equipment'] = industry_equipment\n",
    "usage_industry.set_index('industry',inplace=True)\n",
    "\n",
    "# export to csv\n",
    "usage_industry.to_csv('CSV/usage_by_industry.csv')"
   ]
  },
  {
   "cell_type": "code",
   "execution_count": 25,
   "metadata": {},
   "outputs": [],
   "source": [
    "worker_impact = to_dataframe(tech_us_request)\n",
    "\n",
    "# impact of usage by industry\n",
    "\n",
    "# flagged rows don't provide any useful information\n",
    "worker_impact = worker_impact[worker_impact['firmpdemp_f'].isna()]\n",
    "# filter for all firm sizes\n",
    "worker_impact = worker_impact[worker_impact['nsfszfi'] == '001']\n",
    "# filter to remove total of tech_usage_worker_impact\n",
    "worker_impact = worker_impact[worker_impact['impactwf_u'] != '00']\n",
    "\n",
    "# selecting rows for table\n",
    "worker_impact = worker_impact[\n",
    "    ['industry','naics2017','techuse','tech_usage','impactwf_u','tech_usage_worker_impact',\n",
    "    'number_of_firms', 'number_of_employees', 'annual_payroll'\n",
    "]]\n",
    "\n",
    "# export to CSV\n",
    "worker_impact.to_csv('CSV/worker_impact.csv')"
   ]
  },
  {
   "cell_type": "code",
   "execution_count": 50,
   "metadata": {},
   "outputs": [],
   "source": [
    "# Sara\n",
    "owner_age = owner_dataframe(owner_age_us_request)\n",
    "\n",
    "# Make sure rows are age data and remove unassigned age groups\n",
    "owner_age_filter = owner_age.loc[(owner_age['qdesc_label'] == 'OWNRAGE') & \n",
    "(owner_age['age_label'] != 'EG') &\n",
    "(owner_age['age_label'] != 'EF') &\n",
    "(owner_age['owner_ethnicity'] == '001')]\n",
    "owner_age_gender = owner_age_filter[['industry','sex','sex_code','qdesc','qdesc_label',\n",
    "'number_of_owners_of_respondent_firms','age_label','age_group','race_code','race']]\n",
    "# Export to CSV\n",
    "owner_age_gender.to_csv('CSV/owner_age_gender.csv')"
   ]
  },
  {
   "cell_type": "code",
   "execution_count": 18,
   "metadata": {},
   "outputs": [
    {
     "data": {
      "text/plain": [
       "'<Response [200]>'"
      ]
     },
     "execution_count": 18,
     "metadata": {},
     "output_type": "execute_result"
    }
   ],
   "source": [
    "# Armin"
   ]
  }
 ],
 "metadata": {
  "kernelspec": {
   "display_name": "base",
   "language": "python",
   "name": "python3"
  },
  "language_info": {
   "codemirror_mode": {
    "name": "ipython",
    "version": 3
   },
   "file_extension": ".py",
   "mimetype": "text/x-python",
   "name": "python",
   "nbconvert_exporter": "python",
   "pygments_lexer": "ipython3",
   "version": "3.8.8"
  },
  "orig_nbformat": 4,
  "vscode": {
   "interpreter": {
    "hash": "fb833273add3e7c60eb33c0608260b79a61e072ade6f02cc8d07b0a26eef8ab8"
   }
  }
 },
 "nbformat": 4,
 "nbformat_minor": 2
}
