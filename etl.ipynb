{
 "cells": [
  {
   "cell_type": "code",
   "execution_count": 44,
   "metadata": {},
   "outputs": [],
   "source": [
    "import requests\n",
    "import pandas as pd\n",
    "import numpy as np\n",
    "\n",
    "pd.set_option('display.max_rows', None)\n",
    "pd.set_option('display.max_columns', None)"
   ]
  },
  {
   "cell_type": "code",
   "execution_count": 45,
   "metadata": {},
   "outputs": [],
   "source": [
    "API_KEY = '2e3a785a0323fb22d89acae1264b47cb449782aa'\n",
    "\n",
    "#Setting up Url for API calls\n",
    "get = 'GEO_ID,NAME,NAICS2017,NAICS2017_LABEL,SEX,SEX_LABEL,ETH_GROUP,ETH_GROUP_LABEL,RACE_GROUP,RACE_GROUP_LABEL,VET_GROUP,VET_GROUP_LABEL,EMPSZFI,EMPSZFI_LABEL,YEAR,FIRMPDEMP,FIRMPDEMP_F,RCPPDEMP,RCPPDEMP_F,EMP,EMP_F,PAYANN,PAYANN_F,FIRMPDEMP_S,FIRMPDEMP_S_F,RCPPDEMP_S,RCPPDEMP_S_F,EMP_S,EMP_S_F,PAYANN_S,PAYANN_S_F'\n",
    "summary_us_url = f'https://api.census.gov/data/2018/abscs?get={get}&for=us:*&key={API_KEY}'\n",
    "summary_state_url = f'https://api.census.gov/data/2018/abscs?get={get}&for=state:*&key={API_KEY}'\n",
    "\n",
    "get = 'GEO_ID,NAME,NAICS2017,NAICS2017_LABEL,SEX,SEX_LABEL,ETH_GROUP,ETH_GROUP_LABEL,RACE_GROUP,RACE_GROUP_LABEL,VET_GROUP,VET_GROUP_LABEL,QDESC,BUSCHAR,BUSCHAR_LABEL,YEAR,FIRMPDEMP,FIRMPDEMP_F,FIRMPDEMP_PCT,FIRMPDEMP_PCT_F,RCPPDEMP,RCPPDEMP_F,RCPPDEMP_PCT,RCPPDEMP_PCT_F,EMP,EMP_F,EMP_PCT,EMP_PCT_F,PAYANN,PAYANN_F,PAYANN_PCT,PAYANN_PCT_F,FIRMPDEMP_S,FIRMPDEMP_S_F,FIRMPDEMP_PCT_S,FIRMPDEMP_PCT_S_F,RCPPDEMP_S,RCPPDEMP_S_F,RCPPDEMP_PCT_S,RCPPDEMP_PCT_S_F,EMP_S,EMP_S_F,EMP_PCT_S,EMP_PCT_S_F,PAYANN_S,PAYANN_S_F,PAYANN_PCT_S,PAYANN_PCT_S_F'\n",
    "business_char_workers_us_url = f'https://api.census.gov/data/2018/abscb?get={get}&for=us:*&QDESC_LABEL=WORKERS&key={API_KEY}'\n",
    "business_char_workers_state_url = f'https://api.census.gov/data/2018/abscb?get={get}&for=state:*&QDESC_LABEL=WORKERS&key={API_KEY}'\n",
    "business_char_cust_us_url = f'https://api.census.gov/data/2018/abscb?get={get}&for=us:*&QDESC_LABEL=CUST&key={API_KEY}'\n",
    "business_char_cust_state_url = f'https://api.census.gov/data/2018/abscb?get={get}&for=state:*&QDESC_LABEL=CUST&key={API_KEY}'\n",
    "business_char_family_us_url = f'https://api.census.gov/data/2018/abscb?get={get}&for=us:*&QDESC_LABEL=FAMOWN&key={API_KEY}'\n",
    "business_char_family_state_url = f'https://api.census.gov/data/2018/abscb?get={get}&for=state:*&QDESC_LABEL=FAMOWN&key={API_KEY}'\n",
    "\n",
    "get = 'GEO_ID,NAME,NAICS2017,NAICS2017_LABEL,OWNER_SEX,OWNER_SEX_LABEL,OWNER_ETH,OWNER_ETH_LABEL,OWNER_RACE,OWNER_RACE_LABEL,OWNER_VET,OWNER_VET_LABEL,QDESC,OWNCHAR,OWNCHAR_LABEL,YEAR,OWNPDEMP,OWNPDEMP_F,OWNPDEMP_PCT,OWNPDEMP_PCT_F,OWNPDEMP_S,OWNPDEMP_S_F,OWNPDEMP_PCT_S,OWNPDEMP_PCT_S_F'\n",
    "owner_educ_us_url = f'https://api.census.gov/data/2018/abscbo?get={get}&for=us:*&QDESC_LABEL=EDUC&key={API_KEY}'\n",
    "owner_educ_state_url = f'https://api.census.gov/data/2018/abscbo?get={get}&for=state:*&QDESC_LABEL=EDUC&key={API_KEY}'\n",
    "owner_age_us_url = f'https://api.census.gov/data/2018/abscbo?get={get}&for=us:*&QDESC_LABEL=OWNRAGE&key={API_KEY}'\n",
    "owner_age_state_url = f'https://api.census.gov/data/2018/abscbo?get={get}&for=state:*&QDESC_LABEL=OWNRAGE&key={API_KEY}'\n",
    "\n",
    "get = 'GEO_ID,NAME,NAICS2017,NAICS2017_LABEL,SEX,SEX_LABEL,ETH_GROUP,ETH_GROUP_LABEL,RACE_GROUP,RACE_GROUP_LABEL,VET_GROUP,VET_GROUP_LABEL,NSFSZFI,NSFSZFI_LABEL,FACTORS_P,FACTORS_P_LABEL,YEAR,FIRMPDEMP,FIRMPDEMP_F,FIRMPDEMP_PCT,FIRMPDEMP_PCT_F,RCPPDEMP,RCPPDEMP_F,RCPPDEMP_PCT,RCPPDEMP_PCT_F,EMP,EMP_F,EMP_PCT,EMP_PCT_F,PAYANN,PAYANN_F,PAYANN_PCT,PAYANN_PCT_F,FIRMPDEMP_S,FIRMPDEMP_S_F,FIRMPDEMP_PCT_S,FIRMPDEMP_PCT_S_F,RCPPDEMP_S,RCPPDEMP_S_F,RCPPDEMP_PCT_S,RCPPDEMP_PCT_S_F,EMP_S,EMP_S_F,EMP_PCT_S,EMP_PCT_S_F,PAYANN_S,PAYANN_S_F,PAYANN_PCT_S,PAYANN_PCT_S_F'\n",
    "tech_us_url = f'https://api.census.gov/data/2018/abstcb?get={get}&for=us:*&key={API_KEY}'\n",
    "tech_state_url = f'https://api.census.gov/data/2018/abstcb?get={get}&for=state:*&key={API_KEY}'\n",
    "\n"
   ]
  },
  {
   "cell_type": "code",
   "execution_count": 46,
   "metadata": {},
   "outputs": [],
   "source": [
    "#Making API calls\n",
    "\n",
    "summary_us_request = requests.get(summary_us_url)\n",
    "summary_state_request = requests.get(summary_state_url)\n",
    "business_char_workers_us_request = requests.get(business_char_workers_us_url)\n",
    "business_char_workers_state_request = requests.get(business_char_workers_state_url)\n",
    "business_char_cust_us_request = requests.get(business_char_cust_us_url)\n",
    "business_char_cust_state_request = requests.get(business_char_cust_state_url)\n",
    "business_char_family_us_request = requests.get(business_char_family_us_url)\n",
    "business_char_family_state_request = requests.get(business_char_family_state_url)\n",
    "owner_educ_us_request = requests.get(owner_educ_us_url)\n",
    "owner_educ_state_request = requests.get(owner_educ_state_url)\n",
    "owner_age_us_request = requests.get(owner_age_us_url)\n",
    "owner_age_state_request = requests.get(owner_age_state_url)\n",
    "tech_us_request = requests.get(tech_us_url)\n",
    "tech_state_request = requests.get(tech_state_url)\n"
   ]
  },
  {
   "cell_type": "code",
   "execution_count": 48,
   "metadata": {},
   "outputs": [],
   "source": [
    "def to_dataframe(response):\n",
    "    '''Takes census raw data, cleans it and places it into a pandas dataframe\n",
    "    which is returned to the user'''\n",
    "\n",
    "    data = response.text\n",
    "    # Remove brackets from ends\n",
    "    data = data[2:-2]\n",
    "    # Remove quotes from values\n",
    "    data = data.replace('\"', '')\n",
    "    # data NAICS2017_LABEL value names containing commas\n",
    "    data = data.replace('Agriculture, forestry, fishing and hunting', 'Agriculture/Forestry/Fishing/Hunting')\n",
    "    data = data.replace('Mining, quarrying, and oil and gas extraction', 'Mining/Quarrying/Oil&Gas Extraction')\n",
    "    data = data.replace('Professional, scientific, and technical services', 'Professional/Scientific/Technical Services')\n",
    "    data = data.replace('Arts, entertainment, and recreation', 'Arts/Entertainment/Recreation')\n",
    "    data = data.replace('Technical, trade, or vocational', 'Technical/Trade/Vocational')\n",
    "    data = data.replace('Some college, but no degree', 'Some college')\n",
    "\n",
    "    # Splitting into rows\n",
    "    data = data.split('],\\n[')\n",
    "    # Changing into a list to seperate headers and values\n",
    "    new_data = [i.split(',') for i in data]\n",
    "\n",
    "    # Creating DataFrame\n",
    "    values = new_data[1:]\n",
    "    headers = new_data[0]\n",
    "    df = pd.DataFrame(values, columns = headers)\n",
    "    # Convert names into lower case\n",
    "    df.columns = df.columns.str.lower()\n",
    "    df = df.replace('null', np.nan)\n",
    "\n",
    "    # Renaming columns\n",
    "    df.rename(columns = {\n",
    "        'naics2017_label' : 'industry',\n",
    "        'sex' : 'sex_code',\n",
    "        'sex_label' : 'sex',\n",
    "        'eth_group_label' : 'ethnicity',\n",
    "        'race_group_label' : 'race',\n",
    "    }, inplace = True)\n",
    "\n",
    "    return df"
   ]
  },
  {
   "cell_type": "code",
   "execution_count": 53,
   "metadata": {},
   "outputs": [
    {
     "name": "stdout",
     "output_type": "stream",
     "text": [
      "<class 'pandas.core.frame.DataFrame'>\n",
      "RangeIndex: 5500 entries, 0 to 5499\n",
      "Data columns (total 50 columns):\n",
      " #   Column             Non-Null Count  Dtype \n",
      "---  ------             --------------  ----- \n",
      " 0   geo_id             5500 non-null   object\n",
      " 1   name               5500 non-null   object\n",
      " 2   naics2017          5500 non-null   object\n",
      " 3   industry           5500 non-null   object\n",
      " 4   sex_code           5500 non-null   object\n",
      " 5   sex                5500 non-null   object\n",
      " 6   eth_group          5500 non-null   object\n",
      " 7   ethnicity          5500 non-null   object\n",
      " 8   race_group         5500 non-null   object\n",
      " 9   race               5500 non-null   object\n",
      " 10  vet_group          5500 non-null   object\n",
      " 11  vet_group_label    5500 non-null   object\n",
      " 12  nsfszfi            5500 non-null   object\n",
      " 13  nsfszfi_label      5500 non-null   object\n",
      " 14  factors_p          5500 non-null   object\n",
      " 15  factors_p_label    5500 non-null   object\n",
      " 16  year               5500 non-null   object\n",
      " 17  firmpdemp          5500 non-null   object\n",
      " 18  firmpdemp_f        796 non-null    object\n",
      " 19  firmpdemp_pct      5500 non-null   object\n",
      " 20  firmpdemp_pct_f    796 non-null    object\n",
      " 21  rcppdemp           5500 non-null   object\n",
      " 22  rcppdemp_f         1835 non-null   object\n",
      " 23  rcppdemp_pct       5500 non-null   object\n",
      " 24  rcppdemp_pct_f     1835 non-null   object\n",
      " 25  emp                5500 non-null   object\n",
      " 26  emp_f              796 non-null    object\n",
      " 27  emp_pct            5500 non-null   object\n",
      " 28  emp_pct_f          796 non-null    object\n",
      " 29  payann             5500 non-null   object\n",
      " 30  payann_f           796 non-null    object\n",
      " 31  payann_pct         5500 non-null   object\n",
      " 32  payann_pct_f       796 non-null    object\n",
      " 33  firmpdemp_s        5500 non-null   object\n",
      " 34  firmpdemp_s_f      796 non-null    object\n",
      " 35  firmpdemp_pct_s    5500 non-null   object\n",
      " 36  firmpdemp_pct_s_f  796 non-null    object\n",
      " 37  rcppdemp_s         5500 non-null   object\n",
      " 38  rcppdemp_s_f       1835 non-null   object\n",
      " 39  rcppdemp_pct_s     5500 non-null   object\n",
      " 40  rcppdemp_pct_s_f   1835 non-null   object\n",
      " 41  emp_s              5500 non-null   object\n",
      " 42  emp_s_f            796 non-null    object\n",
      " 43  emp_pct_s          5500 non-null   object\n",
      " 44  emp_pct_s_f        796 non-null    object\n",
      " 45  payann_s           5500 non-null   object\n",
      " 46  payann_s_f         796 non-null    object\n",
      " 47  payann_pct_s       5500 non-null   object\n",
      " 48  payann_pct_s_f     796 non-null    object\n",
      " 49  us                 5500 non-null   object\n",
      "dtypes: object(50)\n",
      "memory usage: 2.1+ MB\n"
     ]
    }
   ],
   "source": [
    "# Chris\n",
    "\n"
   ]
  },
  {
   "cell_type": "code",
   "execution_count": null,
   "metadata": {},
   "outputs": [],
   "source": [
    "# Sara"
   ]
  },
  {
   "cell_type": "code",
   "execution_count": null,
   "metadata": {},
   "outputs": [],
   "source": [
    "# Jasleen"
   ]
  },
  {
   "cell_type": "code",
   "execution_count": null,
   "metadata": {},
   "outputs": [],
   "source": [
    "# Armin"
   ]
  }
 ],
 "metadata": {
  "kernelspec": {
   "display_name": "base",
   "language": "python",
   "name": "python3"
  },
  "language_info": {
   "codemirror_mode": {
    "name": "ipython",
    "version": 3
   },
   "file_extension": ".py",
   "mimetype": "text/x-python",
   "name": "python",
   "nbconvert_exporter": "python",
   "pygments_lexer": "ipython3",
   "version": "3.8.8"
  },
  "orig_nbformat": 4,
  "vscode": {
   "interpreter": {
    "hash": "fb833273add3e7c60eb33c0608260b79a61e072ade6f02cc8d07b0a26eef8ab8"
   }
  }
 },
 "nbformat": 4,
 "nbformat_minor": 2
}
